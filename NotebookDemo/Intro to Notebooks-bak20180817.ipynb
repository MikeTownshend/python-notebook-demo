{
 "cells": [
  {
   "cell_type": "code",
   "execution_count": 1,
   "metadata": {
    "collapsed": true
   },
   "outputs": [],
   "source": [
    "from arcgis.gis import GIS\n",
    "from arcgis.geometry import *\n",
    "import pandas as pd\n",
    "import getpass"
   ]
  },
  {
   "cell_type": "code",
   "execution_count": 2,
   "metadata": {
    "collapsed": true
   },
   "outputs": [],
   "source": [
    "proxyUrl = \"wwwproxy.delaware.gov\""
   ]
  },
  {
   "cell_type": "code",
   "execution_count": 3,
   "metadata": {},
   "outputs": [
    {
     "name": "stdout",
     "output_type": "stream",
     "text": [
      "user Name: mtownshend@de\n"
     ]
    }
   ],
   "source": [
    "user = input(\"user Name: \")"
   ]
  },
  {
   "cell_type": "code",
   "execution_count": 7,
   "metadata": {},
   "outputs": [
    {
     "name": "stdout",
     "output_type": "stream",
     "text": [
      "········\n"
     ]
    }
   ],
   "source": [
    "fm_pass = getpass.getpass()"
   ]
  },
  {
   "cell_type": "code",
   "execution_count": 8,
   "metadata": {},
   "outputs": [
    {
     "name": "stdout",
     "output_type": "stream",
     "text": [
      "Are you on the state network? True or False: True\n"
     ]
    }
   ],
   "source": [
    "on_state_network = input('Are you on the state network? True or False: ')"
   ]
  },
  {
   "cell_type": "code",
   "execution_count": 9,
   "metadata": {},
   "outputs": [],
   "source": [
    "if (on_state_network):\n",
    "    gis = GIS(url='https://www.arcgis.com', username = user, password = fm_pass, proxy_host=proxyUrl, proxy_port=8080)\n",
    "else:\n",
    "    gis = GIS(url='https://www.arcgis.com', username = user, password = fm_pass)"
   ]
  },
  {
   "cell_type": "code",
   "execution_count": 10,
   "metadata": {
    "collapsed": true
   },
   "outputs": [],
   "source": [
    "testmap = gis.map('Newark, DE')"
   ]
  },
  {
   "cell_type": "code",
   "execution_count": 11,
   "metadata": {
    "collapsed": true
   },
   "outputs": [],
   "source": [
    "testmap.basemap = 'dark-gray'"
   ]
  },
  {
   "cell_type": "code",
   "execution_count": 12,
   "metadata": {},
   "outputs": [
    {
     "data": {
      "application/vnd.jupyter.widget-view+json": {
       "model_id": "0836b022ca1f405190a3945b7cebb274"
      }
     },
     "metadata": {},
     "output_type": "display_data"
    }
   ],
   "source": [
    "testmap"
   ]
  },
  {
   "cell_type": "code",
   "execution_count": 13,
   "metadata": {
    "collapsed": true
   },
   "outputs": [],
   "source": [
    "content = gis.content.search(\"Bus\")"
   ]
  },
  {
   "cell_type": "code",
   "execution_count": 14,
   "metadata": {},
   "outputs": [
    {
     "data": {
      "text/html": [
       "<div>\n",
       "<style>\n",
       "    .dataframe thead tr:only-child th {\n",
       "        text-align: right;\n",
       "    }\n",
       "\n",
       "    .dataframe thead th {\n",
       "        text-align: left;\n",
       "    }\n",
       "\n",
       "    .dataframe tbody tr th {\n",
       "        vertical-align: top;\n",
       "    }\n",
       "</style>\n",
       "<table border=\"1\" class=\"dataframe\">\n",
       "  <thead>\n",
       "    <tr style=\"text-align: right;\">\n",
       "      <th></th>\n",
       "      <th>title</th>\n",
       "      <th>type</th>\n",
       "    </tr>\n",
       "  </thead>\n",
       "  <tbody>\n",
       "    <tr>\n",
       "      <th>0</th>\n",
       "      <td>DART</td>\n",
       "      <td>Web Map</td>\n",
       "    </tr>\n",
       "    <tr>\n",
       "      <th>1</th>\n",
       "      <td>Delaware Bus Stops</td>\n",
       "      <td>Feature Service</td>\n",
       "    </tr>\n",
       "    <tr>\n",
       "      <th>2</th>\n",
       "      <td>Delaware Bus Routes &amp; Stops</td>\n",
       "      <td>Web Map</td>\n",
       "    </tr>\n",
       "    <tr>\n",
       "      <th>3</th>\n",
       "      <td>Delaware Bus Routes</td>\n",
       "      <td>Feature Service</td>\n",
       "    </tr>\n",
       "    <tr>\n",
       "      <th>4</th>\n",
       "      <td>Delaware Bus Routes and Bus Stops</td>\n",
       "      <td>Web Mapping Application</td>\n",
       "    </tr>\n",
       "    <tr>\n",
       "      <th>5</th>\n",
       "      <td>Delaware Roadside Obstructions</td>\n",
       "      <td>Feature Service</td>\n",
       "    </tr>\n",
       "    <tr>\n",
       "      <th>6</th>\n",
       "      <td>Delaware Roadside Obstructions</td>\n",
       "      <td>Map Service</td>\n",
       "    </tr>\n",
       "  </tbody>\n",
       "</table>\n",
       "</div>"
      ],
      "text/plain": [
       "                               title                     type\n",
       "0                               DART                  Web Map\n",
       "1                 Delaware Bus Stops          Feature Service\n",
       "2        Delaware Bus Routes & Stops                  Web Map\n",
       "3                Delaware Bus Routes          Feature Service\n",
       "4  Delaware Bus Routes and Bus Stops  Web Mapping Application\n",
       "5     Delaware Roadside Obstructions          Feature Service\n",
       "6     Delaware Roadside Obstructions              Map Service"
      ]
     },
     "execution_count": 14,
     "metadata": {},
     "output_type": "execute_result"
    }
   ],
   "source": [
    "content_df = pd.DataFrame(content)\n",
    "content_df[['title', 'type']]"
   ]
  },
  {
   "cell_type": "code",
   "execution_count": 15,
   "metadata": {
    "collapsed": true
   },
   "outputs": [],
   "source": [
    "testmap.add_layer(content[1])"
   ]
  },
  {
   "cell_type": "code",
   "execution_count": 16,
   "metadata": {
    "collapsed": true
   },
   "outputs": [],
   "source": [
    "location = [(39.690382, -75.758019)]"
   ]
  },
  {
   "cell_type": "code",
   "execution_count": 17,
   "metadata": {
    "collapsed": true
   },
   "outputs": [],
   "source": [
    "loc_df = pd.DataFrame.from_records(location)"
   ]
  },
  {
   "cell_type": "code",
   "execution_count": 18,
   "metadata": {
    "collapsed": true
   },
   "outputs": [],
   "source": [
    "loc_df.columns = ['y', 'x']"
   ]
  },
  {
   "cell_type": "code",
   "execution_count": 19,
   "metadata": {},
   "outputs": [
    {
     "data": {
      "text/html": [
       "<div>\n",
       "<style>\n",
       "    .dataframe thead tr:only-child th {\n",
       "        text-align: right;\n",
       "    }\n",
       "\n",
       "    .dataframe thead th {\n",
       "        text-align: left;\n",
       "    }\n",
       "\n",
       "    .dataframe tbody tr th {\n",
       "        vertical-align: top;\n",
       "    }\n",
       "</style>\n",
       "<table border=\"1\" class=\"dataframe\">\n",
       "  <thead>\n",
       "    <tr style=\"text-align: right;\">\n",
       "      <th></th>\n",
       "      <th>y</th>\n",
       "      <th>x</th>\n",
       "    </tr>\n",
       "  </thead>\n",
       "  <tbody>\n",
       "    <tr>\n",
       "      <th>0</th>\n",
       "      <td>39.690382</td>\n",
       "      <td>-75.758019</td>\n",
       "    </tr>\n",
       "  </tbody>\n",
       "</table>\n",
       "</div>"
      ],
      "text/plain": [
       "           y          x\n",
       "0  39.690382 -75.758019"
      ]
     },
     "execution_count": 19,
     "metadata": {},
     "output_type": "execute_result"
    }
   ],
   "source": [
    "loc_df"
   ]
  },
  {
   "cell_type": "code",
   "execution_count": 20,
   "metadata": {
    "collapsed": true
   },
   "outputs": [],
   "source": [
    "dorm = gis.content.import_data(loc_df)\n",
    "testmap.add_layer(dorm)"
   ]
  },
  {
   "cell_type": "code",
   "execution_count": 21,
   "metadata": {},
   "outputs": [
    {
     "name": "stdout",
     "output_type": "stream",
     "text": [
      "True\n",
      "Point\n",
      "{\"x\": -75.758019, \"y\": 39.690382, \"spatialReference\": {\"wkid\": 4326}}\n",
      "-75.758019 39.690382\n"
     ]
    }
   ],
   "source": [
    "pt = Point({\"x\" : -75.758019, \"y\" : 39.690382, \"spatialReference\" : {\"wkid\" : 4326}})\n",
    "print (pt.is_valid)\n",
    "print (pt.type) # POINT\n",
    "print (pt)\n",
    "print (pt.x, pt.y)"
   ]
  },
  {
   "cell_type": "code",
   "execution_count": 22,
   "metadata": {
    "scrolled": true
   },
   "outputs": [
    {
     "data": {
      "text/plain": [
       "{\"rings\": [[[-75.758019, 39.700382], [-75.75628251822333, 39.70023007753012], [-75.75459879856675, 39.699778926207856], [-75.75301900000001, 39.69904225403784], [-75.75159112390314, 39.69804244443119], [-75.75035855556882, 39.696809876096864], [-75.74935874596216, 39.695381999999995], [-75.74862207379215, 39.69380220143326], [-75.74817092246988, 39.69211848177667], [-75.748019, 39.690382], [-75.74817092246988, 39.68864551822333], [-75.74862207379215, 39.68696179856674], [-75.74935874596216, 39.685382000000004], [-75.75035855556882, 39.683954123903135], [-75.75159112390314, 39.68272155556881], [-75.75301900000001, 39.68172174596216], [-75.75459879856675, 39.680985073792144], [-75.75628251822333, 39.68053392246988], [-75.758019, 39.680382], [-75.75975548177668, 39.68053392246988], [-75.76143920143326, 39.680985073792144], [-75.763019, 39.68172174596216], [-75.76444687609687, 39.68272155556881], [-75.76567944443119, 39.683954123903135], [-75.76667925403785, 39.685382], [-75.76741592620786, 39.68696179856674], [-75.76786707753013, 39.68864551822333], [-75.76801900000001, 39.690382], [-75.76786707753013, 39.69211848177667], [-75.76741592620786, 39.69380220143326], [-75.76667925403785, 39.695382], [-75.76567944443119, 39.696809876096864], [-75.76444687609687, 39.69804244443119], [-75.763019, 39.69904225403784], [-75.76143920143326, 39.699778926207856], [-75.75975548177668, 39.70023007753012], [-75.758019, 39.700382]]]}"
      ]
     },
     "execution_count": 22,
     "metadata": {},
     "output_type": "execute_result"
    }
   ],
   "source": [
    "dormBuffer = buffer([pt], in_sr=pt.spatial_reference, distances=0.01, unit={\"wkid\" : 9035}, out_sr=pt.spatial_reference, buffer_sr=pt.spatial_reference)\n",
    "dormBuffer[0]"
   ]
  },
  {
   "cell_type": "code",
   "execution_count": 23,
   "metadata": {
    "collapsed": true
   },
   "outputs": [],
   "source": [
    "bufferPoly = arcgis.geometry.Polygon(dormBuffer[0])"
   ]
  },
  {
   "cell_type": "code",
   "execution_count": 46,
   "metadata": {
    "collapsed": true
   },
   "outputs": [],
   "source": [
    "from arcgis.features import FeatureSet\n",
    "from arcgis.features import Feature\n",
    "from arcgis.features import FeatureLayer\n",
    "bufferFeature = arcgis.features.Feature(bufferPoly)\n",
    "bufferFeature.geometry_type\n",
    "testmap.draw(arcgis.features.FeatureSet([bufferFeature]))"
   ]
  },
  {
   "cell_type": "code",
   "execution_count": 82,
   "metadata": {
    "collapsed": true
   },
   "outputs": [],
   "source": [
    "# testmap.clear_graphics()"
   ]
  },
  {
   "cell_type": "code",
   "execution_count": 72,
   "metadata": {},
   "outputs": [
    {
     "data": {
      "text/plain": [
       "<FeatureLayer url:\"http://firstmap.gis.delaware.gov/arcgis/rest/services/Transportation/DE_Transit/FeatureServer/3\">"
      ]
     },
     "execution_count": 72,
     "metadata": {},
     "output_type": "execute_result"
    }
   ],
   "source": [
    "busstops = content[1]\n",
    "busstops.layers[0]"
   ]
  },
  {
   "cell_type": "code",
   "execution_count": 76,
   "metadata": {
    "scrolled": true
   },
   "outputs": [
    {
     "name": "stdout",
     "output_type": "stream",
     "text": [
      "OBJECTID = esriFieldTypeOID\n",
      "STOPID = esriFieldTypeInteger\n",
      "STOPABBR = esriFieldTypeString\n",
      "STOPNAME = esriFieldTypeString\n",
      "ROUTES = esriFieldTypeString\n",
      "COUNTY = esriFieldTypeString\n",
      "BENCH = esriFieldTypeString\n",
      "SHELTER = esriFieldTypeString\n",
      "LON = esriFieldTypeDouble\n",
      "LAT = esriFieldTypeDouble\n"
     ]
    }
   ],
   "source": [
    "url = busstops.layers[0].url\n",
    "layer = FeatureLayer(url, gis=gis)\n",
    "for field in layer.properties.fields:\n",
    "    print(field['name'] + \" = \" + field['type'])"
   ]
  },
  {
   "cell_type": "code",
   "execution_count": 88,
   "metadata": {},
   "outputs": [],
   "source": [
    "results = layer.query(where='ROUTES like(46)')"
   ]
  },
  {
   "cell_type": "code",
   "execution_count": 91,
   "metadata": {},
   "outputs": [
    {
     "data": {
      "text/html": [
       "<div>\n",
       "<style>\n",
       "    .dataframe thead tr:only-child th {\n",
       "        text-align: right;\n",
       "    }\n",
       "\n",
       "    .dataframe thead th {\n",
       "        text-align: left;\n",
       "    }\n",
       "\n",
       "    .dataframe tbody tr th {\n",
       "        vertical-align: top;\n",
       "    }\n",
       "</style>\n",
       "<table border=\"1\" class=\"dataframe\">\n",
       "  <thead>\n",
       "    <tr style=\"text-align: right;\">\n",
       "      <th></th>\n",
       "      <th>BENCH</th>\n",
       "      <th>COUNTY</th>\n",
       "      <th>LAT</th>\n",
       "      <th>LON</th>\n",
       "      <th>OBJECTID</th>\n",
       "      <th>ROUTES</th>\n",
       "      <th>SHELTER</th>\n",
       "      <th>STOPABBR</th>\n",
       "      <th>STOPID</th>\n",
       "      <th>STOPNAME</th>\n",
       "      <th>SHAPE</th>\n",
       "    </tr>\n",
       "  </thead>\n",
       "  <tbody>\n",
       "    <tr>\n",
       "      <th>0</th>\n",
       "      <td>0</td>\n",
       "      <td>None</td>\n",
       "      <td>39616634</td>\n",
       "      <td>-75753505</td>\n",
       "      <td>5361</td>\n",
       "      <td>46</td>\n",
       "      <td>0</td>\n",
       "      <td>LACO</td>\n",
       "      <td>325</td>\n",
       "      <td>CORPORATE BLVD @ LAKE DR</td>\n",
       "      <td>{'x': -8432841.3869, 'y': 4810386.817400001}</td>\n",
       "    </tr>\n",
       "    <tr>\n",
       "      <th>1</th>\n",
       "      <td>0</td>\n",
       "      <td>None</td>\n",
       "      <td>39680505</td>\n",
       "      <td>-75753513</td>\n",
       "      <td>5368</td>\n",
       "      <td>46</td>\n",
       "      <td>0</td>\n",
       "      <td>SNPE</td>\n",
       "      <td>340</td>\n",
       "      <td>S COLLEGE AVE &amp; PED X AMSTEL AVE</td>\n",
       "      <td>{'x': -8432842.2769, 'y': 4819621.023500003}</td>\n",
       "    </tr>\n",
       "    <tr>\n",
       "      <th>2</th>\n",
       "      <td>0</td>\n",
       "      <td>None</td>\n",
       "      <td>39680334</td>\n",
       "      <td>-75753680</td>\n",
       "      <td>5370</td>\n",
       "      <td>46</td>\n",
       "      <td>0</td>\n",
       "      <td>SSPE</td>\n",
       "      <td>342</td>\n",
       "      <td>S COLLEGE AVE &amp; PED X AMSTEL AVE</td>\n",
       "      <td>{'x': -8432860.8672, 'y': 4819596.289499998}</td>\n",
       "    </tr>\n",
       "    <tr>\n",
       "      <th>3</th>\n",
       "      <td>0</td>\n",
       "      <td>None</td>\n",
       "      <td>39676454</td>\n",
       "      <td>-75753434</td>\n",
       "      <td>6637</td>\n",
       "      <td>46</td>\n",
       "      <td>0</td>\n",
       "      <td>S0SU</td>\n",
       "      <td>2367</td>\n",
       "      <td>S COLLEGE AVE &amp; OP SUNSET RD</td>\n",
       "      <td>{'x': -8432833.4828, 'y': 4819035.093000002}</td>\n",
       "    </tr>\n",
       "    <tr>\n",
       "      <th>4</th>\n",
       "      <td>0</td>\n",
       "      <td>None</td>\n",
       "      <td>39678195</td>\n",
       "      <td>-75753625</td>\n",
       "      <td>6640</td>\n",
       "      <td>46</td>\n",
       "      <td>0</td>\n",
       "      <td>SSKE</td>\n",
       "      <td>2375</td>\n",
       "      <td>S COLLEGE AVE &amp; KENT WAY</td>\n",
       "      <td>{'x': -8432854.7447, 'y': 4819286.9043999985}</td>\n",
       "    </tr>\n",
       "    <tr>\n",
       "      <th>5</th>\n",
       "      <td>0</td>\n",
       "      <td>None</td>\n",
       "      <td>39676533</td>\n",
       "      <td>-75753716</td>\n",
       "      <td>6641</td>\n",
       "      <td>46</td>\n",
       "      <td>0</td>\n",
       "      <td>S1SU</td>\n",
       "      <td>2376</td>\n",
       "      <td>S COLLEGE AVE &amp; SUNSET RD</td>\n",
       "      <td>{'x': -8432864.8748, 'y': 4819046.519199997}</td>\n",
       "    </tr>\n",
       "    <tr>\n",
       "      <th>6</th>\n",
       "      <td>0</td>\n",
       "      <td>None</td>\n",
       "      <td>39616745</td>\n",
       "      <td>-75753490</td>\n",
       "      <td>7169</td>\n",
       "      <td>46</td>\n",
       "      <td>0</td>\n",
       "      <td>COLW</td>\n",
       "      <td>3326</td>\n",
       "      <td>CORPORATE BLVD @ LAKE DR</td>\n",
       "      <td>{'x': -8432839.717, 'y': 4810402.857900001}</td>\n",
       "    </tr>\n",
       "    <tr>\n",
       "      <th>7</th>\n",
       "      <td>0</td>\n",
       "      <td>None</td>\n",
       "      <td>39616998</td>\n",
       "      <td>-75756471</td>\n",
       "      <td>7170</td>\n",
       "      <td>46</td>\n",
       "      <td>0</td>\n",
       "      <td>COPW</td>\n",
       "      <td>3327</td>\n",
       "      <td>CORPORATE BLVD @ PENCADER DR</td>\n",
       "      <td>{'x': -8433171.5603, 'y': 4810439.418899998}</td>\n",
       "    </tr>\n",
       "    <tr>\n",
       "      <th>8</th>\n",
       "      <td>0</td>\n",
       "      <td>None</td>\n",
       "      <td>39611962</td>\n",
       "      <td>-75762844</td>\n",
       "      <td>7171</td>\n",
       "      <td>46</td>\n",
       "      <td>0</td>\n",
       "      <td>P650</td>\n",
       "      <td>3328</td>\n",
       "      <td>PENCADER DR @ 650 PENCADER DR</td>\n",
       "      <td>{'x': -8433880.9992, 'y': 4809711.693599999}</td>\n",
       "    </tr>\n",
       "    <tr>\n",
       "      <th>9</th>\n",
       "      <td>0</td>\n",
       "      <td>None</td>\n",
       "      <td>39611339</td>\n",
       "      <td>-75767761</td>\n",
       "      <td>7172</td>\n",
       "      <td>46</td>\n",
       "      <td>0</td>\n",
       "      <td>PWRA</td>\n",
       "      <td>3329</td>\n",
       "      <td>PENCADER DR @ REYNOLDS ALUMINUM</td>\n",
       "      <td>{'x': -8434428.357, 'y': 4809621.670900002}</td>\n",
       "    </tr>\n",
       "    <tr>\n",
       "      <th>10</th>\n",
       "      <td>0</td>\n",
       "      <td>None</td>\n",
       "      <td>39607288</td>\n",
       "      <td>-75769633</td>\n",
       "      <td>7173</td>\n",
       "      <td>46</td>\n",
       "      <td>0</td>\n",
       "      <td>PVSP</td>\n",
       "      <td>3330</td>\n",
       "      <td>PLEASANT VALLEY RD OP PENCADER BAR</td>\n",
       "      <td>{'x': -8434636.7471, 'y': 4809036.326300003}</td>\n",
       "    </tr>\n",
       "    <tr>\n",
       "      <th>11</th>\n",
       "      <td>0</td>\n",
       "      <td>None</td>\n",
       "      <td>39607178</td>\n",
       "      <td>-75769451</td>\n",
       "      <td>7178</td>\n",
       "      <td>46</td>\n",
       "      <td>0</td>\n",
       "      <td>PVPN</td>\n",
       "      <td>3335</td>\n",
       "      <td>PLEASANT VALLEY RD @ PENCADER BAR</td>\n",
       "      <td>{'x': -8434616.4869, 'y': 4809020.432400003}</td>\n",
       "    </tr>\n",
       "    <tr>\n",
       "      <th>12</th>\n",
       "      <td>0</td>\n",
       "      <td>None</td>\n",
       "      <td>39611272</td>\n",
       "      <td>-75767436</td>\n",
       "      <td>7179</td>\n",
       "      <td>46</td>\n",
       "      <td>0</td>\n",
       "      <td>PUCP</td>\n",
       "      <td>3336</td>\n",
       "      <td>PENCADER DR @ UCP</td>\n",
       "      <td>{'x': -8434392.1782, 'y': 4809611.989600003}</td>\n",
       "    </tr>\n",
       "    <tr>\n",
       "      <th>13</th>\n",
       "      <td>0</td>\n",
       "      <td>None</td>\n",
       "      <td>39611878</td>\n",
       "      <td>-75762682</td>\n",
       "      <td>7180</td>\n",
       "      <td>46</td>\n",
       "      <td>0</td>\n",
       "      <td>P405</td>\n",
       "      <td>3337</td>\n",
       "      <td>PENCADER DR @ 405 PENCADER BLVD</td>\n",
       "      <td>{'x': -8433862.9655, 'y': 4809699.555600002}</td>\n",
       "    </tr>\n",
       "    <tr>\n",
       "      <th>14</th>\n",
       "      <td>0</td>\n",
       "      <td>None</td>\n",
       "      <td>39616578</td>\n",
       "      <td>-75756695</td>\n",
       "      <td>7181</td>\n",
       "      <td>46</td>\n",
       "      <td>0</td>\n",
       "      <td>PECO</td>\n",
       "      <td>3338</td>\n",
       "      <td>PENCADER DR @ CORPORATE BLVD</td>\n",
       "      <td>{'x': -8433196.4959, 'y': 4810378.7249}</td>\n",
       "    </tr>\n",
       "    <tr>\n",
       "      <th>15</th>\n",
       "      <td>1</td>\n",
       "      <td>None</td>\n",
       "      <td>39616420</td>\n",
       "      <td>-75749724</td>\n",
       "      <td>6792</td>\n",
       "      <td>46</td>\n",
       "      <td>1</td>\n",
       "      <td>COLB</td>\n",
       "      <td>2609</td>\n",
       "      <td>CORPORATE BLVD &amp; OP DEPT OF LABOR</td>\n",
       "      <td>{'x': -8432420.488, 'y': 4810355.892499998}</td>\n",
       "    </tr>\n",
       "    <tr>\n",
       "      <th>16</th>\n",
       "      <td>1</td>\n",
       "      <td>None</td>\n",
       "      <td>39616315</td>\n",
       "      <td>-75749738</td>\n",
       "      <td>6793</td>\n",
       "      <td>46</td>\n",
       "      <td>1</td>\n",
       "      <td>COLA</td>\n",
       "      <td>2610</td>\n",
       "      <td>CORPORATE BLVD &amp; DEPT OF LABOR</td>\n",
       "      <td>{'x': -8432422.0464, 'y': 4810340.7190999985}</td>\n",
       "    </tr>\n",
       "  </tbody>\n",
       "</table>\n",
       "</div>"
      ],
      "text/plain": [
       "   BENCH COUNTY       LAT       LON  OBJECTID ROUTES SHELTER STOPABBR  STOPID  \\\n",
       "0      0   None  39616634 -75753505      5361     46       0     LACO     325   \n",
       "1      0   None  39680505 -75753513      5368     46       0     SNPE     340   \n",
       "2      0   None  39680334 -75753680      5370     46       0     SSPE     342   \n",
       "3      0   None  39676454 -75753434      6637     46       0     S0SU    2367   \n",
       "4      0   None  39678195 -75753625      6640     46       0     SSKE    2375   \n",
       "5      0   None  39676533 -75753716      6641     46       0     S1SU    2376   \n",
       "6      0   None  39616745 -75753490      7169     46       0     COLW    3326   \n",
       "7      0   None  39616998 -75756471      7170     46       0     COPW    3327   \n",
       "8      0   None  39611962 -75762844      7171     46       0     P650    3328   \n",
       "9      0   None  39611339 -75767761      7172     46       0     PWRA    3329   \n",
       "10     0   None  39607288 -75769633      7173     46       0     PVSP    3330   \n",
       "11     0   None  39607178 -75769451      7178     46       0     PVPN    3335   \n",
       "12     0   None  39611272 -75767436      7179     46       0     PUCP    3336   \n",
       "13     0   None  39611878 -75762682      7180     46       0     P405    3337   \n",
       "14     0   None  39616578 -75756695      7181     46       0     PECO    3338   \n",
       "15     1   None  39616420 -75749724      6792     46       1     COLB    2609   \n",
       "16     1   None  39616315 -75749738      6793     46       1     COLA    2610   \n",
       "\n",
       "                              STOPNAME  \\\n",
       "0             CORPORATE BLVD @ LAKE DR   \n",
       "1     S COLLEGE AVE & PED X AMSTEL AVE   \n",
       "2     S COLLEGE AVE & PED X AMSTEL AVE   \n",
       "3         S COLLEGE AVE & OP SUNSET RD   \n",
       "4             S COLLEGE AVE & KENT WAY   \n",
       "5            S COLLEGE AVE & SUNSET RD   \n",
       "6             CORPORATE BLVD @ LAKE DR   \n",
       "7         CORPORATE BLVD @ PENCADER DR   \n",
       "8        PENCADER DR @ 650 PENCADER DR   \n",
       "9      PENCADER DR @ REYNOLDS ALUMINUM   \n",
       "10  PLEASANT VALLEY RD OP PENCADER BAR   \n",
       "11   PLEASANT VALLEY RD @ PENCADER BAR   \n",
       "12                   PENCADER DR @ UCP   \n",
       "13     PENCADER DR @ 405 PENCADER BLVD   \n",
       "14        PENCADER DR @ CORPORATE BLVD   \n",
       "15   CORPORATE BLVD & OP DEPT OF LABOR   \n",
       "16      CORPORATE BLVD & DEPT OF LABOR   \n",
       "\n",
       "                                            SHAPE  \n",
       "0    {'x': -8432841.3869, 'y': 4810386.817400001}  \n",
       "1    {'x': -8432842.2769, 'y': 4819621.023500003}  \n",
       "2    {'x': -8432860.8672, 'y': 4819596.289499998}  \n",
       "3    {'x': -8432833.4828, 'y': 4819035.093000002}  \n",
       "4   {'x': -8432854.7447, 'y': 4819286.9043999985}  \n",
       "5    {'x': -8432864.8748, 'y': 4819046.519199997}  \n",
       "6     {'x': -8432839.717, 'y': 4810402.857900001}  \n",
       "7    {'x': -8433171.5603, 'y': 4810439.418899998}  \n",
       "8    {'x': -8433880.9992, 'y': 4809711.693599999}  \n",
       "9     {'x': -8434428.357, 'y': 4809621.670900002}  \n",
       "10   {'x': -8434636.7471, 'y': 4809036.326300003}  \n",
       "11   {'x': -8434616.4869, 'y': 4809020.432400003}  \n",
       "12   {'x': -8434392.1782, 'y': 4809611.989600003}  \n",
       "13   {'x': -8433862.9655, 'y': 4809699.555600002}  \n",
       "14        {'x': -8433196.4959, 'y': 4810378.7249}  \n",
       "15    {'x': -8432420.488, 'y': 4810355.892499998}  \n",
       "16  {'x': -8432422.0464, 'y': 4810340.7190999985}  "
      ]
     },
     "execution_count": 91,
     "metadata": {},
     "output_type": "execute_result"
    }
   ],
   "source": [
    "results.df"
   ]
  },
  {
   "cell_type": "code",
   "execution_count": null,
   "metadata": {
    "collapsed": true
   },
   "outputs": [],
   "source": []
  }
 ],
 "metadata": {
  "kernelspec": {
   "display_name": "Python 3",
   "language": "python",
   "name": "python3"
  },
  "language_info": {
   "codemirror_mode": {
    "name": "ipython",
    "version": 3
   },
   "file_extension": ".py",
   "mimetype": "text/x-python",
   "name": "python",
   "nbconvert_exporter": "python",
   "pygments_lexer": "ipython3",
   "version": "3.6.2"
  }
 },
 "nbformat": 4,
 "nbformat_minor": 2
}
