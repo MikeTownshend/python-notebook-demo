{
 "cells": [
  {
   "cell_type": "code",
   "execution_count": 1,
   "metadata": {
    "collapsed": true,
    "scrolled": false
   },
   "outputs": [],
   "source": [
    "from arcgis.gis import GIS\n",
    "from arcgis.geometry import *\n",
    "import pandas as pd\n",
    "import getpass"
   ]
  },
  {
   "cell_type": "code",
   "execution_count": 2,
   "metadata": {
    "collapsed": true,
    "scrolled": false
   },
   "outputs": [],
   "source": [
    "proxyUrl = \"wwwproxy.delaware.gov\""
   ]
  },
  {
   "cell_type": "code",
   "execution_count": 3,
   "metadata": {
    "scrolled": false
   },
   "outputs": [
    {
     "name": "stdout",
     "output_type": "stream",
     "text": [
      "user Name: mtownshend@de\n"
     ]
    }
   ],
   "source": [
    "user = input(\"user Name: \")"
   ]
  },
  {
   "cell_type": "code",
   "execution_count": 4,
   "metadata": {
    "scrolled": false
   },
   "outputs": [
    {
     "name": "stdout",
     "output_type": "stream",
     "text": [
      "········\n"
     ]
    }
   ],
   "source": [
    "fm_pass = getpass.getpass()"
   ]
  },
  {
   "cell_type": "code",
   "execution_count": 5,
   "metadata": {
    "scrolled": false
   },
   "outputs": [
    {
     "name": "stdout",
     "output_type": "stream",
     "text": [
      "Are you on the state network? True or False: True\n"
     ]
    }
   ],
   "source": [
    "on_state_network = input('Are you on the state network? True or False: ')"
   ]
  },
  {
   "cell_type": "code",
   "execution_count": 6,
   "metadata": {
    "scrolled": false
   },
   "outputs": [],
   "source": [
    "if (on_state_network):\n",
    "    gis = GIS(url='https://www.arcgis.com', username = user, password = fm_pass, proxy_host=proxyUrl, proxy_port=8080)\n",
    "else:\n",
    "    gis = GIS(url='https://www.arcgis.com', username = user, password = fm_pass)"
   ]
  },
  {
   "cell_type": "code",
   "execution_count": 7,
   "metadata": {
    "collapsed": true,
    "scrolled": false
   },
   "outputs": [],
   "source": [
    "testmap = gis.map('Newark, DE')"
   ]
  },
  {
   "cell_type": "code",
   "execution_count": 24,
   "metadata": {
    "collapsed": true,
    "scrolled": false
   },
   "outputs": [],
   "source": [
    "testmap.basemap = 'dark-gray-vector'"
   ]
  },
  {
   "cell_type": "code",
   "execution_count": null,
   "metadata": {
    "scrolled": false
   },
   "outputs": [],
   "source": [
    "testmap"
   ]
  },
  {
   "cell_type": "code",
   "execution_count": 11,
   "metadata": {
    "collapsed": true,
    "scrolled": false
   },
   "outputs": [],
   "source": [
    "content = gis.content.search(\"Bus\")"
   ]
  },
  {
   "cell_type": "code",
   "execution_count": null,
   "metadata": {
    "scrolled": false
   },
   "outputs": [],
   "source": [
    "content_df = pd.DataFrame(content)\n",
    "content_df[['title', 'type']]"
   ]
  },
  {
   "cell_type": "code",
   "execution_count": null,
   "metadata": {
    "collapsed": true,
    "scrolled": false
   },
   "outputs": [],
   "source": [
    "testmap.add_layer(content[1])"
   ]
  },
  {
   "cell_type": "code",
   "execution_count": null,
   "metadata": {
    "collapsed": true,
    "scrolled": false
   },
   "outputs": [],
   "source": [
    "location = [(39.690382, -75.758019)]"
   ]
  },
  {
   "cell_type": "code",
   "execution_count": null,
   "metadata": {
    "collapsed": true,
    "scrolled": false
   },
   "outputs": [],
   "source": [
    "loc_df = pd.DataFrame.from_records(location)"
   ]
  },
  {
   "cell_type": "code",
   "execution_count": null,
   "metadata": {
    "collapsed": true,
    "scrolled": false
   },
   "outputs": [],
   "source": [
    "loc_df.columns = ['y', 'x']"
   ]
  },
  {
   "cell_type": "code",
   "execution_count": null,
   "metadata": {
    "scrolled": false
   },
   "outputs": [],
   "source": [
    "loc_df"
   ]
  },
  {
   "cell_type": "code",
   "execution_count": null,
   "metadata": {
    "collapsed": true,
    "scrolled": false
   },
   "outputs": [],
   "source": [
    "dorm = gis.content.import_data(loc_df)\n",
    "testmap.add_layer(dorm)"
   ]
  },
  {
   "cell_type": "code",
   "execution_count": null,
   "metadata": {
    "scrolled": false
   },
   "outputs": [],
   "source": [
    "pt = Point({\"x\" : -75.758019, \"y\" : 39.690382, \"spatialReference\" : {\"wkid\" : 4326}})\n",
    "print (pt.is_valid)\n",
    "print (pt.type) # POINT\n",
    "print (pt)\n",
    "print (pt.x, pt.y)"
   ]
  },
  {
   "cell_type": "code",
   "execution_count": null,
   "metadata": {
    "scrolled": true
   },
   "outputs": [],
   "source": [
    "dormBuffer = buffer([pt], in_sr=pt.spatial_reference, distances=0.01, unit={\"wkid\" : 9035}, out_sr=pt.spatial_reference, buffer_sr=pt.spatial_reference)\n",
    "dormBuffer[0]"
   ]
  },
  {
   "cell_type": "code",
   "execution_count": null,
   "metadata": {
    "collapsed": true,
    "scrolled": false
   },
   "outputs": [],
   "source": [
    "bufferPoly = arcgis.geometry.Polygon(dormBuffer[0])"
   ]
  },
  {
   "cell_type": "code",
   "execution_count": 12,
   "metadata": {
    "scrolled": false
   },
   "outputs": [],
   "source": [
    "from arcgis.features import FeatureSet\n",
    "from arcgis.features import Feature\n",
    "from arcgis.features import FeatureLayer\n",
    "# bufferFeature = arcgis.features.Feature(bufferPoly)\n",
    "# bufferFeature.geometry_type\n",
    "# testmap.draw(arcgis.features.FeatureSet([bufferFeature]))"
   ]
  },
  {
   "cell_type": "code",
   "execution_count": null,
   "metadata": {
    "collapsed": true,
    "scrolled": false
   },
   "outputs": [],
   "source": [
    "# testmap.clear_graphics()"
   ]
  },
  {
   "cell_type": "code",
   "execution_count": 13,
   "metadata": {
    "scrolled": false
   },
   "outputs": [
    {
     "data": {
      "text/plain": [
       "<FeatureLayer url:\"http://firstmap.gis.delaware.gov/arcgis/rest/services/Transportation/DE_Transit/FeatureServer/3\">"
      ]
     },
     "execution_count": 13,
     "metadata": {},
     "output_type": "execute_result"
    }
   ],
   "source": [
    "busstops = content[1]\n",
    "busstops.layers[0]"
   ]
  },
  {
   "cell_type": "code",
   "execution_count": 14,
   "metadata": {
    "scrolled": true
   },
   "outputs": [
    {
     "name": "stdout",
     "output_type": "stream",
     "text": [
      "OBJECTID = esriFieldTypeOID\n",
      "STOPID = esriFieldTypeInteger\n",
      "STOPABBR = esriFieldTypeString\n",
      "STOPNAME = esriFieldTypeString\n",
      "ROUTES = esriFieldTypeString\n",
      "COUNTY = esriFieldTypeString\n",
      "BENCH = esriFieldTypeString\n",
      "SHELTER = esriFieldTypeString\n",
      "LON = esriFieldTypeDouble\n",
      "LAT = esriFieldTypeDouble\n"
     ]
    }
   ],
   "source": [
    "url = busstops.layers[0].url\n",
    "layer = FeatureLayer(url, gis=gis)\n",
    "for field in layer.properties.fields:\n",
    "    print(field['name'] + \" = \" + field['type'])"
   ]
  },
  {
   "cell_type": "code",
   "execution_count": 27,
   "metadata": {
    "scrolled": false
   },
   "outputs": [],
   "source": [
    "results = layer.query(where='ROUTES like(46)', out_sr='4326')"
   ]
  },
  {
   "cell_type": "code",
   "execution_count": 28,
   "metadata": {
    "scrolled": false
   },
   "outputs": [
    {
     "data": {
      "text/plain": [
       "{\"features\": [{\"geometry\": {\"x\": -75.75350306407933, \"y\": 39.61662602293188}, \"attributes\": {\"OBJECTID\": 5361, \"STOPID\": 325, \"STOPABBR\": \"LACO\", \"STOPNAME\": \"CORPORATE BLVD @ LAKE DR\", \"ROUTES\": \"46\", \"COUNTY\": null, \"BENCH\": \"0\", \"SHELTER\": \"0\", \"LON\": -75753505, \"LAT\": 39616634}}, {\"geometry\": {\"x\": -75.75351105908537, \"y\": 39.68049701075316}, \"attributes\": {\"OBJECTID\": 5368, \"STOPID\": 340, \"STOPABBR\": \"SNPE\", \"STOPNAME\": \"S COLLEGE AVE & PED X AMSTEL AVE\", \"ROUTES\": \"46\", \"COUNTY\": null, \"BENCH\": \"0\", \"SHELTER\": \"0\", \"LON\": -75753513, \"LAT\": 39680505}}, {\"geometry\": {\"x\": -75.75367805859163, \"y\": 39.68032600989009}, \"attributes\": {\"OBJECTID\": 5370, \"STOPID\": 342, \"STOPABBR\": \"SSPE\", \"STOPNAME\": \"S COLLEGE AVE & PED X AMSTEL AVE\", \"ROUTES\": \"46\", \"COUNTY\": null, \"BENCH\": \"0\", \"SHELTER\": \"0\", \"LON\": -75753680, \"LAT\": 39680334}}, {\"geometry\": {\"x\": -75.75343206034096, \"y\": 39.676446010686604}, \"attributes\": {\"OBJECTID\": 6637, \"STOPID\": 2367, \"STOPABBR\": \"S0SU\", \"STOPNAME\": \"S COLLEGE AVE & OP SUNSET RD\", \"ROUTES\": \"46\", \"COUNTY\": null, \"BENCH\": \"0\", \"SHELTER\": \"0\", \"LON\": -75753434, \"LAT\": 39676454}}, {\"geometry\": {\"x\": -75.75362305923835, \"y\": 39.678187010783795}, \"attributes\": {\"OBJECTID\": 6640, \"STOPID\": 2375, \"STOPABBR\": \"SSKE\", \"STOPNAME\": \"S COLLEGE AVE & KENT WAY\", \"ROUTES\": \"46\", \"COUNTY\": null, \"BENCH\": \"0\", \"SHELTER\": \"0\", \"LON\": -75753625, \"LAT\": 39678195}}, {\"geometry\": {\"x\": -75.75371405947494, \"y\": 39.67652501129835}, \"attributes\": {\"OBJECTID\": 6641, \"STOPID\": 2376, \"STOPABBR\": \"S1SU\", \"STOPNAME\": \"S COLLEGE AVE & SUNSET RD\", \"ROUTES\": \"46\", \"COUNTY\": null, \"BENCH\": \"0\", \"SHELTER\": \"0\", \"LON\": -75753716, \"LAT\": 39676533}}, {\"geometry\": {\"x\": -75.7534880631124, \"y\": 39.6167370227235}, \"attributes\": {\"OBJECTID\": 7169, \"STOPID\": 3326, \"STOPABBR\": \"COLW\", \"STOPNAME\": \"CORPORATE BLVD @ LAKE DR\", \"ROUTES\": \"46\", \"COUNTY\": null, \"BENCH\": \"0\", \"SHELTER\": \"0\", \"LON\": -75753490, \"LAT\": 39616745}}, {\"geometry\": {\"x\": -75.75646906219562, \"y\": 39.616990023110645}, \"attributes\": {\"OBJECTID\": 7170, \"STOPID\": 3327, \"STOPABBR\": \"COPW\", \"STOPNAME\": \"CORPORATE BLVD @ PENCADER DR\", \"ROUTES\": \"46\", \"COUNTY\": null, \"BENCH\": \"0\", \"SHELTER\": \"0\", \"LON\": -75756471, \"LAT\": 39616998}}, {\"geometry\": {\"x\": -75.76284206026581, \"y\": 39.61195402454293}, \"attributes\": {\"OBJECTID\": 7171, \"STOPID\": 3328, \"STOPABBR\": \"P650\", \"STOPNAME\": \"PENCADER DR @ 650 PENCADER DR\", \"ROUTES\": \"46\", \"COUNTY\": null, \"BENCH\": \"0\", \"SHELTER\": \"0\", \"LON\": -75762844, \"LAT\": 39611962}}, {\"geometry\": {\"x\": -75.76775905904205, \"y\": 39.61133102473941}, \"attributes\": {\"OBJECTID\": 7172, \"STOPID\": 3329, \"STOPABBR\": \"PWRA\", \"STOPNAME\": \"PENCADER DR @ REYNOLDS ALUMINUM\", \"ROUTES\": \"46\", \"COUNTY\": null, \"BENCH\": \"0\", \"SHELTER\": \"0\", \"LON\": -75767761, \"LAT\": 39611339}}, {\"geometry\": {\"x\": -75.76963105916093, \"y\": 39.60728002559716}, \"attributes\": {\"OBJECTID\": 7173, \"STOPID\": 3330, \"STOPABBR\": \"PVSP\", \"STOPNAME\": \"PLEASANT VALLEY RD OP PENCADER BAR\", \"ROUTES\": \"46\", \"COUNTY\": null, \"BENCH\": \"0\", \"SHELTER\": \"0\", \"LON\": -75769633, \"LAT\": 39607288}}, {\"geometry\": {\"x\": -75.76944905868774, \"y\": 39.60717002524861}, \"attributes\": {\"OBJECTID\": 7178, \"STOPID\": 3335, \"STOPABBR\": \"PVPN\", \"STOPNAME\": \"PLEASANT VALLEY RD @ PENCADER BAR\", \"ROUTES\": \"46\", \"COUNTY\": null, \"BENCH\": \"0\", \"SHELTER\": \"0\", \"LON\": -75769451, \"LAT\": 39607178}}, {\"geometry\": {\"x\": -75.76743405935204, \"y\": 39.61126402521534}, \"attributes\": {\"OBJECTID\": 7179, \"STOPID\": 3336, \"STOPABBR\": \"PUCP\", \"STOPNAME\": \"PENCADER DR @ UCP\", \"ROUTES\": \"46\", \"COUNTY\": null, \"BENCH\": \"0\", \"SHELTER\": \"0\", \"LON\": -75767436, \"LAT\": 39611272}}, {\"geometry\": {\"x\": -75.76268006078243, \"y\": 39.611870024149965}, \"attributes\": {\"OBJECTID\": 7180, \"STOPID\": 3337, \"STOPABBR\": \"P405\", \"STOPNAME\": \"PENCADER DR @ 405 PENCADER BLVD\", \"ROUTES\": \"46\", \"COUNTY\": null, \"BENCH\": \"0\", \"SHELTER\": \"0\", \"LON\": -75762682, \"LAT\": 39611878}}, {\"geometry\": {\"x\": -75.75669306250161, \"y\": 39.61657002300062}, \"attributes\": {\"OBJECTID\": 7181, \"STOPID\": 3338, \"STOPABBR\": \"PECO\", \"STOPNAME\": \"PENCADER DR @ CORPORATE BLVD\", \"ROUTES\": \"46\", \"COUNTY\": null, \"BENCH\": \"0\", \"SHELTER\": \"0\", \"LON\": -75756695, \"LAT\": 39616578}}, {\"geometry\": {\"x\": -75.74972206492993, \"y\": 39.61641202302449}, \"attributes\": {\"OBJECTID\": 6792, \"STOPID\": 2609, \"STOPABBR\": \"COLB\", \"STOPNAME\": \"CORPORATE BLVD & OP DEPT OF LABOR\", \"ROUTES\": \"46\", \"COUNTY\": null, \"BENCH\": \"1\", \"SHELTER\": \"1\", \"LON\": -75749724, \"LAT\": 39616420}}, {\"geometry\": {\"x\": -75.74973606427531, \"y\": 39.6163070230511}, \"attributes\": {\"OBJECTID\": 6793, \"STOPID\": 2610, \"STOPABBR\": \"COLA\", \"STOPNAME\": \"CORPORATE BLVD & DEPT OF LABOR\", \"ROUTES\": \"46\", \"COUNTY\": null, \"BENCH\": \"1\", \"SHELTER\": \"1\", \"LON\": -75749738, \"LAT\": 39616315}}], \"objectIdFieldName\": \"OBJECTID\", \"globalIdFieldName\": \"\", \"spatialReference\": {\"wkid\": 4326, \"latestWkid\": 4326}, \"geometryType\": \"esriGeometryPoint\", \"fields\": [{\"name\": \"OBJECTID\", \"alias\": \"OBJECTID\", \"type\": \"esriFieldTypeOID\"}, {\"name\": \"STOPID\", \"alias\": \"STOP ID\", \"type\": \"esriFieldTypeInteger\"}, {\"name\": \"STOPABBR\", \"alias\": \"STOP ABBREVIATION\", \"type\": \"esriFieldTypeString\", \"length\": 254}, {\"name\": \"STOPNAME\", \"alias\": \"STOP NAME\", \"type\": \"esriFieldTypeString\", \"length\": 254}, {\"name\": \"ROUTES\", \"alias\": \"ROUTES\", \"type\": \"esriFieldTypeString\", \"length\": 254}, {\"name\": \"COUNTY\", \"alias\": \"COUNTY\", \"type\": \"esriFieldTypeString\", \"length\": 254}, {\"name\": \"BENCH\", \"alias\": \"BENCH\", \"type\": \"esriFieldTypeString\", \"length\": 254}, {\"name\": \"SHELTER\", \"alias\": \"SHELTER\", \"type\": \"esriFieldTypeString\", \"length\": 254}, {\"name\": \"LON\", \"alias\": \"LON\", \"type\": \"esriFieldTypeDouble\"}, {\"name\": \"LAT\", \"alias\": \"LAT\", \"type\": \"esriFieldTypeDouble\"}]}"
      ]
     },
     "execution_count": 28,
     "metadata": {},
     "output_type": "execute_result"
    }
   ],
   "source": [
    "results"
   ]
  },
  {
   "cell_type": "code",
   "execution_count": 29,
   "metadata": {
    "scrolled": false
   },
   "outputs": [
    {
     "data": {
      "text/html": [
       "<div>\n",
       "<style>\n",
       "    .dataframe thead tr:only-child th {\n",
       "        text-align: right;\n",
       "    }\n",
       "\n",
       "    .dataframe thead th {\n",
       "        text-align: left;\n",
       "    }\n",
       "\n",
       "    .dataframe tbody tr th {\n",
       "        vertical-align: top;\n",
       "    }\n",
       "</style>\n",
       "<table border=\"1\" class=\"dataframe\">\n",
       "  <thead>\n",
       "    <tr style=\"text-align: right;\">\n",
       "      <th></th>\n",
       "      <th>BENCH</th>\n",
       "      <th>COUNTY</th>\n",
       "      <th>LAT</th>\n",
       "      <th>LON</th>\n",
       "      <th>OBJECTID</th>\n",
       "      <th>ROUTES</th>\n",
       "      <th>SHELTER</th>\n",
       "      <th>STOPABBR</th>\n",
       "      <th>STOPID</th>\n",
       "      <th>STOPNAME</th>\n",
       "      <th>SHAPE</th>\n",
       "    </tr>\n",
       "  </thead>\n",
       "  <tbody>\n",
       "    <tr>\n",
       "      <th>0</th>\n",
       "      <td>0</td>\n",
       "      <td>None</td>\n",
       "      <td>39616634</td>\n",
       "      <td>-75753505</td>\n",
       "      <td>5361</td>\n",
       "      <td>46</td>\n",
       "      <td>0</td>\n",
       "      <td>LACO</td>\n",
       "      <td>325</td>\n",
       "      <td>CORPORATE BLVD @ LAKE DR</td>\n",
       "      <td>{'x': -75.75350306407933, 'y': 39.61662602293188}</td>\n",
       "    </tr>\n",
       "    <tr>\n",
       "      <th>1</th>\n",
       "      <td>0</td>\n",
       "      <td>None</td>\n",
       "      <td>39680505</td>\n",
       "      <td>-75753513</td>\n",
       "      <td>5368</td>\n",
       "      <td>46</td>\n",
       "      <td>0</td>\n",
       "      <td>SNPE</td>\n",
       "      <td>340</td>\n",
       "      <td>S COLLEGE AVE &amp; PED X AMSTEL AVE</td>\n",
       "      <td>{'x': -75.75351105908537, 'y': 39.68049701075316}</td>\n",
       "    </tr>\n",
       "    <tr>\n",
       "      <th>2</th>\n",
       "      <td>0</td>\n",
       "      <td>None</td>\n",
       "      <td>39680334</td>\n",
       "      <td>-75753680</td>\n",
       "      <td>5370</td>\n",
       "      <td>46</td>\n",
       "      <td>0</td>\n",
       "      <td>SSPE</td>\n",
       "      <td>342</td>\n",
       "      <td>S COLLEGE AVE &amp; PED X AMSTEL AVE</td>\n",
       "      <td>{'x': -75.75367805859163, 'y': 39.68032600989009}</td>\n",
       "    </tr>\n",
       "    <tr>\n",
       "      <th>3</th>\n",
       "      <td>0</td>\n",
       "      <td>None</td>\n",
       "      <td>39676454</td>\n",
       "      <td>-75753434</td>\n",
       "      <td>6637</td>\n",
       "      <td>46</td>\n",
       "      <td>0</td>\n",
       "      <td>S0SU</td>\n",
       "      <td>2367</td>\n",
       "      <td>S COLLEGE AVE &amp; OP SUNSET RD</td>\n",
       "      <td>{'x': -75.75343206034096, 'y': 39.676446010686...</td>\n",
       "    </tr>\n",
       "    <tr>\n",
       "      <th>4</th>\n",
       "      <td>0</td>\n",
       "      <td>None</td>\n",
       "      <td>39678195</td>\n",
       "      <td>-75753625</td>\n",
       "      <td>6640</td>\n",
       "      <td>46</td>\n",
       "      <td>0</td>\n",
       "      <td>SSKE</td>\n",
       "      <td>2375</td>\n",
       "      <td>S COLLEGE AVE &amp; KENT WAY</td>\n",
       "      <td>{'x': -75.75362305923835, 'y': 39.678187010783...</td>\n",
       "    </tr>\n",
       "    <tr>\n",
       "      <th>5</th>\n",
       "      <td>0</td>\n",
       "      <td>None</td>\n",
       "      <td>39676533</td>\n",
       "      <td>-75753716</td>\n",
       "      <td>6641</td>\n",
       "      <td>46</td>\n",
       "      <td>0</td>\n",
       "      <td>S1SU</td>\n",
       "      <td>2376</td>\n",
       "      <td>S COLLEGE AVE &amp; SUNSET RD</td>\n",
       "      <td>{'x': -75.75371405947494, 'y': 39.67652501129835}</td>\n",
       "    </tr>\n",
       "    <tr>\n",
       "      <th>6</th>\n",
       "      <td>0</td>\n",
       "      <td>None</td>\n",
       "      <td>39616745</td>\n",
       "      <td>-75753490</td>\n",
       "      <td>7169</td>\n",
       "      <td>46</td>\n",
       "      <td>0</td>\n",
       "      <td>COLW</td>\n",
       "      <td>3326</td>\n",
       "      <td>CORPORATE BLVD @ LAKE DR</td>\n",
       "      <td>{'x': -75.7534880631124, 'y': 39.6167370227235}</td>\n",
       "    </tr>\n",
       "    <tr>\n",
       "      <th>7</th>\n",
       "      <td>0</td>\n",
       "      <td>None</td>\n",
       "      <td>39616998</td>\n",
       "      <td>-75756471</td>\n",
       "      <td>7170</td>\n",
       "      <td>46</td>\n",
       "      <td>0</td>\n",
       "      <td>COPW</td>\n",
       "      <td>3327</td>\n",
       "      <td>CORPORATE BLVD @ PENCADER DR</td>\n",
       "      <td>{'x': -75.75646906219562, 'y': 39.616990023110...</td>\n",
       "    </tr>\n",
       "    <tr>\n",
       "      <th>8</th>\n",
       "      <td>0</td>\n",
       "      <td>None</td>\n",
       "      <td>39611962</td>\n",
       "      <td>-75762844</td>\n",
       "      <td>7171</td>\n",
       "      <td>46</td>\n",
       "      <td>0</td>\n",
       "      <td>P650</td>\n",
       "      <td>3328</td>\n",
       "      <td>PENCADER DR @ 650 PENCADER DR</td>\n",
       "      <td>{'x': -75.76284206026581, 'y': 39.61195402454293}</td>\n",
       "    </tr>\n",
       "    <tr>\n",
       "      <th>9</th>\n",
       "      <td>0</td>\n",
       "      <td>None</td>\n",
       "      <td>39611339</td>\n",
       "      <td>-75767761</td>\n",
       "      <td>7172</td>\n",
       "      <td>46</td>\n",
       "      <td>0</td>\n",
       "      <td>PWRA</td>\n",
       "      <td>3329</td>\n",
       "      <td>PENCADER DR @ REYNOLDS ALUMINUM</td>\n",
       "      <td>{'x': -75.76775905904205, 'y': 39.61133102473941}</td>\n",
       "    </tr>\n",
       "    <tr>\n",
       "      <th>10</th>\n",
       "      <td>0</td>\n",
       "      <td>None</td>\n",
       "      <td>39607288</td>\n",
       "      <td>-75769633</td>\n",
       "      <td>7173</td>\n",
       "      <td>46</td>\n",
       "      <td>0</td>\n",
       "      <td>PVSP</td>\n",
       "      <td>3330</td>\n",
       "      <td>PLEASANT VALLEY RD OP PENCADER BAR</td>\n",
       "      <td>{'x': -75.76963105916093, 'y': 39.60728002559716}</td>\n",
       "    </tr>\n",
       "    <tr>\n",
       "      <th>11</th>\n",
       "      <td>0</td>\n",
       "      <td>None</td>\n",
       "      <td>39607178</td>\n",
       "      <td>-75769451</td>\n",
       "      <td>7178</td>\n",
       "      <td>46</td>\n",
       "      <td>0</td>\n",
       "      <td>PVPN</td>\n",
       "      <td>3335</td>\n",
       "      <td>PLEASANT VALLEY RD @ PENCADER BAR</td>\n",
       "      <td>{'x': -75.76944905868774, 'y': 39.60717002524861}</td>\n",
       "    </tr>\n",
       "    <tr>\n",
       "      <th>12</th>\n",
       "      <td>0</td>\n",
       "      <td>None</td>\n",
       "      <td>39611272</td>\n",
       "      <td>-75767436</td>\n",
       "      <td>7179</td>\n",
       "      <td>46</td>\n",
       "      <td>0</td>\n",
       "      <td>PUCP</td>\n",
       "      <td>3336</td>\n",
       "      <td>PENCADER DR @ UCP</td>\n",
       "      <td>{'x': -75.76743405935204, 'y': 39.61126402521534}</td>\n",
       "    </tr>\n",
       "    <tr>\n",
       "      <th>13</th>\n",
       "      <td>0</td>\n",
       "      <td>None</td>\n",
       "      <td>39611878</td>\n",
       "      <td>-75762682</td>\n",
       "      <td>7180</td>\n",
       "      <td>46</td>\n",
       "      <td>0</td>\n",
       "      <td>P405</td>\n",
       "      <td>3337</td>\n",
       "      <td>PENCADER DR @ 405 PENCADER BLVD</td>\n",
       "      <td>{'x': -75.76268006078243, 'y': 39.611870024149...</td>\n",
       "    </tr>\n",
       "    <tr>\n",
       "      <th>14</th>\n",
       "      <td>0</td>\n",
       "      <td>None</td>\n",
       "      <td>39616578</td>\n",
       "      <td>-75756695</td>\n",
       "      <td>7181</td>\n",
       "      <td>46</td>\n",
       "      <td>0</td>\n",
       "      <td>PECO</td>\n",
       "      <td>3338</td>\n",
       "      <td>PENCADER DR @ CORPORATE BLVD</td>\n",
       "      <td>{'x': -75.75669306250161, 'y': 39.61657002300062}</td>\n",
       "    </tr>\n",
       "    <tr>\n",
       "      <th>15</th>\n",
       "      <td>1</td>\n",
       "      <td>None</td>\n",
       "      <td>39616420</td>\n",
       "      <td>-75749724</td>\n",
       "      <td>6792</td>\n",
       "      <td>46</td>\n",
       "      <td>1</td>\n",
       "      <td>COLB</td>\n",
       "      <td>2609</td>\n",
       "      <td>CORPORATE BLVD &amp; OP DEPT OF LABOR</td>\n",
       "      <td>{'x': -75.74972206492993, 'y': 39.61641202302449}</td>\n",
       "    </tr>\n",
       "    <tr>\n",
       "      <th>16</th>\n",
       "      <td>1</td>\n",
       "      <td>None</td>\n",
       "      <td>39616315</td>\n",
       "      <td>-75749738</td>\n",
       "      <td>6793</td>\n",
       "      <td>46</td>\n",
       "      <td>1</td>\n",
       "      <td>COLA</td>\n",
       "      <td>2610</td>\n",
       "      <td>CORPORATE BLVD &amp; DEPT OF LABOR</td>\n",
       "      <td>{'x': -75.74973606427531, 'y': 39.6163070230511}</td>\n",
       "    </tr>\n",
       "  </tbody>\n",
       "</table>\n",
       "</div>"
      ],
      "text/plain": [
       "   BENCH COUNTY       LAT       LON  OBJECTID ROUTES SHELTER STOPABBR  STOPID  \\\n",
       "0      0   None  39616634 -75753505      5361     46       0     LACO     325   \n",
       "1      0   None  39680505 -75753513      5368     46       0     SNPE     340   \n",
       "2      0   None  39680334 -75753680      5370     46       0     SSPE     342   \n",
       "3      0   None  39676454 -75753434      6637     46       0     S0SU    2367   \n",
       "4      0   None  39678195 -75753625      6640     46       0     SSKE    2375   \n",
       "5      0   None  39676533 -75753716      6641     46       0     S1SU    2376   \n",
       "6      0   None  39616745 -75753490      7169     46       0     COLW    3326   \n",
       "7      0   None  39616998 -75756471      7170     46       0     COPW    3327   \n",
       "8      0   None  39611962 -75762844      7171     46       0     P650    3328   \n",
       "9      0   None  39611339 -75767761      7172     46       0     PWRA    3329   \n",
       "10     0   None  39607288 -75769633      7173     46       0     PVSP    3330   \n",
       "11     0   None  39607178 -75769451      7178     46       0     PVPN    3335   \n",
       "12     0   None  39611272 -75767436      7179     46       0     PUCP    3336   \n",
       "13     0   None  39611878 -75762682      7180     46       0     P405    3337   \n",
       "14     0   None  39616578 -75756695      7181     46       0     PECO    3338   \n",
       "15     1   None  39616420 -75749724      6792     46       1     COLB    2609   \n",
       "16     1   None  39616315 -75749738      6793     46       1     COLA    2610   \n",
       "\n",
       "                              STOPNAME  \\\n",
       "0             CORPORATE BLVD @ LAKE DR   \n",
       "1     S COLLEGE AVE & PED X AMSTEL AVE   \n",
       "2     S COLLEGE AVE & PED X AMSTEL AVE   \n",
       "3         S COLLEGE AVE & OP SUNSET RD   \n",
       "4             S COLLEGE AVE & KENT WAY   \n",
       "5            S COLLEGE AVE & SUNSET RD   \n",
       "6             CORPORATE BLVD @ LAKE DR   \n",
       "7         CORPORATE BLVD @ PENCADER DR   \n",
       "8        PENCADER DR @ 650 PENCADER DR   \n",
       "9      PENCADER DR @ REYNOLDS ALUMINUM   \n",
       "10  PLEASANT VALLEY RD OP PENCADER BAR   \n",
       "11   PLEASANT VALLEY RD @ PENCADER BAR   \n",
       "12                   PENCADER DR @ UCP   \n",
       "13     PENCADER DR @ 405 PENCADER BLVD   \n",
       "14        PENCADER DR @ CORPORATE BLVD   \n",
       "15   CORPORATE BLVD & OP DEPT OF LABOR   \n",
       "16      CORPORATE BLVD & DEPT OF LABOR   \n",
       "\n",
       "                                                SHAPE  \n",
       "0   {'x': -75.75350306407933, 'y': 39.61662602293188}  \n",
       "1   {'x': -75.75351105908537, 'y': 39.68049701075316}  \n",
       "2   {'x': -75.75367805859163, 'y': 39.68032600989009}  \n",
       "3   {'x': -75.75343206034096, 'y': 39.676446010686...  \n",
       "4   {'x': -75.75362305923835, 'y': 39.678187010783...  \n",
       "5   {'x': -75.75371405947494, 'y': 39.67652501129835}  \n",
       "6     {'x': -75.7534880631124, 'y': 39.6167370227235}  \n",
       "7   {'x': -75.75646906219562, 'y': 39.616990023110...  \n",
       "8   {'x': -75.76284206026581, 'y': 39.61195402454293}  \n",
       "9   {'x': -75.76775905904205, 'y': 39.61133102473941}  \n",
       "10  {'x': -75.76963105916093, 'y': 39.60728002559716}  \n",
       "11  {'x': -75.76944905868774, 'y': 39.60717002524861}  \n",
       "12  {'x': -75.76743405935204, 'y': 39.61126402521534}  \n",
       "13  {'x': -75.76268006078243, 'y': 39.611870024149...  \n",
       "14  {'x': -75.75669306250161, 'y': 39.61657002300062}  \n",
       "15  {'x': -75.74972206492993, 'y': 39.61641202302449}  \n",
       "16   {'x': -75.74973606427531, 'y': 39.6163070230511}  "
      ]
     },
     "execution_count": 29,
     "metadata": {},
     "output_type": "execute_result"
    }
   ],
   "source": [
    "results.df"
   ]
  },
  {
   "cell_type": "code",
   "execution_count": 31,
   "metadata": {
    "scrolled": false
   },
   "outputs": [],
   "source": [
    "symbol_ = {\"angle\":0,\"xoffset\":0,\"yoffset\":0,\"type\":\"esriPMS\",\n",
    "           \"url\":\"http://static.arcgis.com/images/Symbols/Transportation/esriDefaultMarker_191.png\",\n",
    "           \"contentType\":\"image/png\",\"width\":24,\"height\":24}\n",
    "testmap.draw(results, symbol=symbol_)"
   ]
  },
  {
   "cell_type": "code",
   "execution_count": 19,
   "metadata": {
    "scrolled": false
   },
   "outputs": [
    {
     "data": {
      "application/vnd.jupyter.widget-view+json": {
       "model_id": "078ccb6d08fa4a4b9c56e2db70e404fc"
      }
     },
     "metadata": {},
     "output_type": "display_data"
    }
   ],
   "source": [
    "testmap"
   ]
  },
  {
   "cell_type": "code",
   "execution_count": null,
   "metadata": {
    "collapsed": true
   },
   "outputs": [],
   "source": []
  }
 ],
 "metadata": {
  "kernelspec": {
   "display_name": "Python 3",
   "language": "python",
   "name": "python3"
  },
  "language_info": {
   "codemirror_mode": {
    "name": "ipython",
    "version": 3
   },
   "file_extension": ".py",
   "mimetype": "text/x-python",
   "name": "python",
   "nbconvert_exporter": "python",
   "pygments_lexer": "ipython3",
   "version": "3.6.2"
  }
 },
 "nbformat": 4,
 "nbformat_minor": 2
}
